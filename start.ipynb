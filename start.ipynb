{
 "cells": [
  {
   "cell_type": "markdown",
   "metadata": {},
   "source": [
    "<img src=\"./assets/illustration.png\" style=\"width: 1000px;\"/>"
   ]
  },
  {
   "cell_type": "markdown",
   "metadata": {},
   "source": [
    "<script>\n",
    "    // AUTORUN ALL CELLS ON NOTEBOOK-LOAD!\n",
    "    require(\n",
    "        ['base/js/namespace', 'jquery'], \n",
    "        function(jupyter, $) {\n",
    "            $(jupyter.events).on(\"kernel_ready.Kernel\", function () {\n",
    "                console.log(\"Auto-running all cells-below...\");\n",
    "                jupyter.actions.call('jupyter-notebook:run-all-cells-below');\n",
    "                jupyter.actions.call('jupyter-notebook:save-notebook');\n",
    "            });\n",
    "        }\n",
    "    );\n",
    "</script>"
   ]
  },
  {
   "cell_type": "markdown",
   "metadata": {
    "tags": []
   },
   "source": [
    "## Supplementary material\n",
    "\n",
    "<p style=\"color:rgb(255,0,0);\">Please cite the source when using these data:</p>\n",
    "\n",
    "\n",
    "Theunissen, T., Huismans, R.S., Lu, G. and Riel, N. Relative continent - mid-ocean ridge elevation: a reference case for isostasy in geodynamics. Earth-Science Reviews. [https://doi.org/10.1016/j.earscirev.2022.104153](https://doi.org/10.1016/j.earscirev.2022.104153)<br><br>\n",
    "\n",
    "\n",
    "This Repository allows:\n",
    "\n",
    "- [Displaying](thermo.ipynb) and downloading thermodynamic solutions (raw data and grids of density, melt fraction,...)\n",
    "\n",
    "While you can run these notebooks on Binder we encourage you to clone this repo and to run jupyter-lab locally. ([README.md](https://github.com/tth030/ThermodynamicTablesFANTOM) for instructions).\n",
    "\n",
    "## PerpleX | Thermodynamic calculations\n",
    "\n",
    "- [PerpleX](https://www.perplex.ethz.ch/)\n",
    "    - In order to generate the phase equilbria in the mantle (including supra-solidus conditions) we use the thermodynamic dataset from Jennings and Holland (2015). Phase diagrams are produced using [Perple X 6.8.4](https://www.perplex.ethz.ch/perplex_updates.html) and the hp622.dat thermodynamic database for pure species and end-members (Holland and Powell, 2011). We use the following set of solution phases: O(JH), Sp(JH), Pl(JH),Melt(JH), Grt(JH), Opx(JH), Cpx(JH), Eskol(C), Ring(H), for olivine, spinel, plagioclase, melt, garnet, orthopyroxene, clinopyroxene, eskolaite, and ringwoodite, respectively (See paper for details).\n",
    "\n",
    "\n",
    "- What are inputfiles and output files? \n",
    "    - Input file: *.dat\n",
    "    - Output files: *.phm (data) *.ps (phase map)\n",
    "\n",
    "\n",
    "- P-T grids (density,melting,)\n",
    "    - Files *.bin are built here and used for display and for loading in the 2-D thermo-mechanical code\n",
    "    - See [Building grids and display key variables](thermo.ipynb)\n"
   ]
  },
  {
   "cell_type": "code",
   "execution_count": null,
   "metadata": {},
   "outputs": [],
   "source": []
  },
  {
   "cell_type": "code",
   "execution_count": null,
   "metadata": {},
   "outputs": [],
   "source": []
  }
 ],
 "metadata": {
  "kernelspec": {
   "display_name": "Python 3 (ipykernel)",
   "language": "python",
   "name": "python3"
  },
  "language_info": {
   "codemirror_mode": {
    "name": "ipython",
    "version": 3
   },
   "file_extension": ".py",
   "mimetype": "text/x-python",
   "name": "python",
   "nbconvert_exporter": "python",
   "pygments_lexer": "ipython3",
   "version": "3.9.12"
  }
 },
 "nbformat": 4,
 "nbformat_minor": 4
}
